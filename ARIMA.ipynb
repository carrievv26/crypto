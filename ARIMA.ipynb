{
 "cells": [
  {
   "cell_type": "code",
   "execution_count": 12,
   "metadata": {},
   "outputs": [
    {
     "name": "stdout",
     "output_type": "stream",
     "text": [
      "Collecting pmdarima\n",
      "  Downloading pmdarima-1.8.5-cp38-cp38-macosx_10_15_x86_64.whl (595 kB)\n",
      "     |████████████████████████████████| 595 kB 248 kB/s            \n",
      "\u001b[?25hCollecting numpy>=1.19.3\n",
      "  Downloading numpy-1.22.3-cp38-cp38-macosx_10_14_x86_64.whl (17.6 MB)\n",
      "     |████████████████████████████████| 17.6 MB 1.6 MB/s            \n",
      "\u001b[?25hRequirement already satisfied: joblib>=0.11 in /Users/carriegeng/opt/anaconda3/lib/python3.8/site-packages (from pmdarima) (0.17.0)\n",
      "Requirement already satisfied: scikit-learn>=0.22 in /Users/carriegeng/opt/anaconda3/lib/python3.8/site-packages (from pmdarima) (0.23.2)\n",
      "Requirement already satisfied: Cython!=0.29.18,>=0.29 in /Users/carriegeng/opt/anaconda3/lib/python3.8/site-packages (from pmdarima) (0.29.21)\n",
      "Collecting statsmodels!=0.12.0,>=0.11\n",
      "  Downloading statsmodels-0.13.2-cp38-cp38-macosx_10_9_x86_64.whl (9.6 MB)\n",
      "     |████████████████████████████████| 9.6 MB 202 kB/s            \n",
      "\u001b[?25hRequirement already satisfied: urllib3 in /Users/carriegeng/opt/anaconda3/lib/python3.8/site-packages (from pmdarima) (1.25.11)\n",
      "Requirement already satisfied: setuptools!=50.0.0,>=38.6.0 in /Users/carriegeng/opt/anaconda3/lib/python3.8/site-packages (from pmdarima) (59.5.0)\n",
      "Requirement already satisfied: scipy>=1.3.2 in /Users/carriegeng/opt/anaconda3/lib/python3.8/site-packages (from pmdarima) (1.5.2)\n",
      "Requirement already satisfied: pandas>=0.19 in /Users/carriegeng/opt/anaconda3/lib/python3.8/site-packages (from pmdarima) (1.1.3)\n",
      "Requirement already satisfied: python-dateutil>=2.7.3 in /Users/carriegeng/opt/anaconda3/lib/python3.8/site-packages (from pandas>=0.19->pmdarima) (2.8.1)\n",
      "Requirement already satisfied: pytz>=2017.2 in /Users/carriegeng/opt/anaconda3/lib/python3.8/site-packages (from pandas>=0.19->pmdarima) (2020.1)\n",
      "Requirement already satisfied: threadpoolctl>=2.0.0 in /Users/carriegeng/opt/anaconda3/lib/python3.8/site-packages (from scikit-learn>=0.22->pmdarima) (2.1.0)\n",
      "Collecting patsy>=0.5.2\n",
      "  Downloading patsy-0.5.2-py2.py3-none-any.whl (233 kB)\n",
      "     |████████████████████████████████| 233 kB 1.6 MB/s            \n",
      "\u001b[?25hCollecting packaging>=21.3\n",
      "  Downloading packaging-21.3-py3-none-any.whl (40 kB)\n",
      "     |████████████████████████████████| 40 kB 1.3 MB/s            \n",
      "\u001b[?25hRequirement already satisfied: pyparsing!=3.0.5,>=2.0.2 in /Users/carriegeng/opt/anaconda3/lib/python3.8/site-packages (from packaging>=21.3->statsmodels!=0.12.0,>=0.11->pmdarima) (2.4.7)\n",
      "Requirement already satisfied: six in /Users/carriegeng/opt/anaconda3/lib/python3.8/site-packages (from patsy>=0.5.2->statsmodels!=0.12.0,>=0.11->pmdarima) (1.15.0)\n",
      "Installing collected packages: numpy, patsy, packaging, statsmodels, pmdarima\n",
      "  Attempting uninstall: numpy\n",
      "    Found existing installation: numpy 1.19.2\n",
      "    Uninstalling numpy-1.19.2:\n",
      "      Successfully uninstalled numpy-1.19.2\n",
      "  Attempting uninstall: patsy\n",
      "    Found existing installation: patsy 0.5.1\n",
      "    Uninstalling patsy-0.5.1:\n",
      "      Successfully uninstalled patsy-0.5.1\n",
      "  Attempting uninstall: packaging\n",
      "    Found existing installation: packaging 20.4\n",
      "    Uninstalling packaging-20.4:\n",
      "      Successfully uninstalled packaging-20.4\n",
      "  Attempting uninstall: statsmodels\n",
      "    Found existing installation: statsmodels 0.12.0\n",
      "    Uninstalling statsmodels-0.12.0:\n",
      "      Successfully uninstalled statsmodels-0.12.0\n",
      "Successfully installed numpy-1.22.3 packaging-21.3 patsy-0.5.2 pmdarima-1.8.5 statsmodels-0.13.2\n",
      "\u001b[33mWARNING: You are using pip version 21.3.1; however, version 22.0.3 is available.\n",
      "You should consider upgrading via the '/Users/carriegeng/opt/anaconda3/bin/python -m pip install --upgrade pip' command.\u001b[0m\n"
     ]
    }
   ],
   "source": [
    "! pip install pmdarima"
   ]
  },
  {
   "cell_type": "code",
   "execution_count": 28,
   "metadata": {},
   "outputs": [],
   "source": [
    "import pandas as pd\n",
    "from binance.client import Client\n",
    "import datetime as dt\n",
    "import matplotlib.pyplot as plt\n",
    "%matplotlib inline\n",
    "\n",
    "# client configuration\n",
    "api_key = 'API HERE'\n",
    "api_secret = 'SECRET API HERE'\n",
    "client = Client(api_key, api_secret)\n"
   ]
  },
  {
   "cell_type": "markdown",
   "metadata": {
    "pycharm": {
     "name": "#%% md\n"
    }
   },
   "source": [
    "Data - BTCUSD, interval 1d, March 1, 2021 - March 9, 2022."
   ]
  },
  {
   "cell_type": "code",
   "execution_count": 43,
   "metadata": {
    "pycharm": {
     "name": "#%%\n"
    }
   },
   "outputs": [
    {
     "data": {
      "text/plain": [
       "2021-03-02 07:59:59.999    49607.00\n",
       "2021-03-03 07:59:59.999    48454.09\n",
       "2021-03-04 07:59:59.999    50400.00\n",
       "2021-03-05 07:59:59.999    48323.38\n",
       "2021-03-06 07:59:59.999    48757.79\n",
       "                             ...   \n",
       "2022-03-05 07:59:59.999    39152.61\n",
       "2022-03-06 07:59:59.999    39406.50\n",
       "2022-03-07 07:59:59.999    38401.61\n",
       "2022-03-08 07:59:59.999    38053.84\n",
       "2022-03-09 07:59:59.999    38843.78\n",
       "Name: close, Length: 373, dtype: float64"
      ]
     },
     "execution_count": 43,
     "metadata": {},
     "output_type": "execute_result"
    },
    {
     "data": {
      "image/png": "[encoded data removed]",
      "text/plain": [
       "<Figure size 432x288 with 1 Axes>"
      ]
     },
     "metadata": {
      "needs_background": "light"
     },
     "output_type": "display_data"
    }
   ],
   "source": [
    "symbol = \"BTCTUSD\"\n",
    "interval= '1d'\n",
    "Client.KLINE_INTERVAL_1DAY\n",
    "klines = client.get_historical_klines(symbol, interval, \"1 Mar,2021\")\n",
    "data = pd.DataFrame(klines)\n",
    " # create colums name\n",
    "data.columns = ['open_time','open', 'high', 'low', 'close', 'volume','close_time', 'qav','num_trades','taker_base_vol','taker_quote_vol', 'ignore']\n",
    "\n",
    "# change the timestamp\n",
    "data.index = [dt.datetime.fromtimestamp(x/1000.0) for x in data.close_time]\n",
    "data.to_csv(symbol+'.csv', index = None, header=True)\n",
    "#convert data to float and plot\n",
    "df=data.astype(float)\n",
    "df[\"close\"].plot(title = 'BITUSDT', legend = 'close')\n",
    "dates = df.index[1:]\n",
    "close = df['close']\n",
    "close\n",
    "#info = client.get_all_tickers()\n",
    "#info\n"
   ]
  },
  {
   "cell_type": "code",
   "execution_count": 30,
   "metadata": {
    "pycharm": {
     "name": "#%%\n"
    }
   },
   "outputs": [
    {
     "name": "stdout",
     "output_type": "stream",
     "text": [
      "ADF Statistic: -1.7706546883080017\n",
      "p-value: 0.3951250424839655\n",
      "Critical Values:\n",
      "\t1%: -3.4480516066132636\n",
      "\t5%: -2.869340997473759\n",
      "\t10%: -2.5709257824604\n"
     ]
    }
   ],
   "source": [
    "import numpy as np\n",
    "from statsmodels.tsa.stattools import adfuller\n",
    "from statsmodels.tsa.seasonal import seasonal_decompose\n",
    "from statsmodels.tsa.arima_model import ARIMA\n",
    "from pandas.plotting import register_matplotlib_converters\n",
    "register_matplotlib_converters()\n",
    "\n",
    "# Function to conduct ADF test, aka. stationary test\n",
    "def adf(ts):\n",
    "    result = adfuller(ts)\n",
    "    print('ADF Statistic: {}'.format(result[0]))\n",
    "    print('p-value: {}'.format(result[1]))\n",
    "    print('Critical Values:')\n",
    "    for key, value in result[4].items():\n",
    "        print('\\t{}: {}'.format(key, value))\n",
    "adf(df['close']) # Close price ts is clearly non-stationary."
   ]
  },
  {
   "cell_type": "markdown",
   "metadata": {
    "pycharm": {
     "name": "#%% md\n"
    }
   },
   "source": [
    "Usually for financial or economic data, first-order differencing and log transformation are sufficient for make ts\n",
    "stationary. More complex transformation is the Box-Cox transformation. As we disscussed eariler, the traditional\n",
    "transformation doesn't work on this ts. Further we try Box-Cox, the result is not promising either (transformation and\n",
    "results are in the end). It is impossible for a valid ARIMA without a staionary ts. Thus we turn to study daily percentage\n",
    "return."
   ]
  },
  {
   "cell_type": "code",
   "execution_count": 31,
   "metadata": {
    "pycharm": {
     "name": "#%%\n"
    }
   },
   "outputs": [
    {
     "name": "stdout",
     "output_type": "stream",
     "text": [
      "ADF Statistic: -20.19509889727475\n",
      "p-value: 0.0\n",
      "Critical Values:\n",
      "\t1%: -3.4480996560263386\n",
      "\t5%: -2.8693621113224137\n",
      "\t10%: -2.570937038891028\n"
     ]
    },
    {
     "data": {
      "image/png": "[encoded data removed]",
      "text/plain": [
       "<Figure size 432x288 with 1 Axes>"
      ]
     },
     "metadata": {
      "needs_background": "light"
     },
     "output_type": "display_data"
    }
   ],
   "source": [
    "daily_return = close.pct_change(1).dropna()\n",
    "daily_return.rename(\"Darily return\")\n",
    "daily_return.plot()\n",
    "adf(daily_return)"
   ]
  },
  {
   "cell_type": "markdown",
   "metadata": {
    "pycharm": {
     "name": "#%% md\n"
    }
   },
   "source": [
    "Daily return seems perfect stationary.\n",
    "\n",
    "We split data by 7/3 as Train/Test with sie 259/113."
   ]
  },
  {
   "cell_type": "code",
   "execution_count": 32,
   "metadata": {
    "pycharm": {
     "name": "#%%\n"
    }
   },
   "outputs": [],
   "source": [
    "train = daily_return[:259]\n",
    "test = daily_return[259:]\n",
    "test = test.rename(\"Test daily return\")\n",
    "train = train.rename(\"Test daily return\")"
   ]
  },
  {
   "cell_type": "code",
   "execution_count": 33,
   "metadata": {
    "pycharm": {
     "name": "#%%\n"
    }
   },
   "outputs": [
    {
     "name": "stdout",
     "output_type": "stream",
     "text": [
      "ADF Statistic: -17.51960022008066\n",
      "p-value: 4.292414618201695e-30\n",
      "Critical Values:\n",
      "\t1%: -3.455952927706342\n",
      "\t5%: -2.8728086526320302\n",
      "\t10%: -2.572774990685656\n"
     ]
    }
   ],
   "source": [
    "adf(train) # training ts alse passes adf test, ie stationary."
   ]
  },
  {
   "cell_type": "markdown",
   "metadata": {
    "pycharm": {
     "name": "#%% md\n"
    }
   },
   "source": [
    "We plot ACF and PACF to identify P,Q. However, I cannot get conclusion on P,Q from ACF and PACF plots, seen below.\n",
    "Sometimes, P,Q identified only from ACF and PACF are unjustified, especially there is no support by economic meaning as\n",
    "it is the case with Crypto."
   ]
  },
  {
   "cell_type": "code",
   "execution_count": 34,
   "metadata": {
    "pycharm": {
     "name": "#%%\n"
    }
   },
   "outputs": [
    {
     "data": {
      "text/plain": [
       "<Figure size 864x576 with 0 Axes>"
      ]
     },
     "metadata": {},
     "output_type": "display_data"
    },
    {
     "data": {
      "image/png": "[encoded data removed]",
      "text/plain": [
       "<Figure size 432x288 with 1 Axes>"
      ]
     },
     "metadata": {
      "needs_background": "light"
     },
     "output_type": "display_data"
    },
    {
     "data": {
      "image/png": "[encoded data removed]",
      "text/plain": [
       "<Figure size 432x288 with 1 Axes>"
      ]
     },
     "metadata": {
      "needs_background": "light"
     },
     "output_type": "display_data"
    }
   ],
   "source": [
    "import statsmodels.api as sm\n",
    "fig = plt.figure(figsize=(12,8))\n",
    "ax1= sm.graphics.tsa.plot_acf(train, lags=80)\n",
    "ax2 = sm.graphics.tsa.plot_pacf(train, lags=80)"
   ]
  },
  {
   "cell_type": "markdown",
   "metadata": {
    "pycharm": {
     "name": "#%% md\n"
    }
   },
   "source": [
    "Nevertheless, selection optimal P,Q based on AIC is still worth a try."
   ]
  },
  {
   "cell_type": "code",
   "execution_count": 35,
   "metadata": {
    "pycharm": {
     "name": "#%%\n"
    }
   },
   "outputs": [
    {
     "name": "stdout",
     "output_type": "stream",
     "text": [
      "Performing stepwise search to minimize aic\n",
      " ARIMA(1,1,1)(0,0,0)[0] intercept   : AIC=inf, Time=0.18 sec\n",
      " ARIMA(0,1,0)(0,0,0)[0] intercept   : AIC=-722.351, Time=0.04 sec\n",
      " ARIMA(1,1,0)(0,0,0)[0] intercept   : AIC=-810.771, Time=0.08 sec\n",
      " ARIMA(0,1,1)(0,0,0)[0] intercept   : AIC=inf, Time=0.14 sec\n",
      " ARIMA(0,1,0)(0,0,0)[0]             : AIC=-724.351, Time=0.02 sec\n",
      " ARIMA(2,1,0)(0,0,0)[0] intercept   : AIC=-839.221, Time=0.05 sec\n",
      " ARIMA(3,1,0)(0,0,0)[0] intercept   : AIC=-872.491, Time=0.10 sec\n",
      " ARIMA(4,1,0)(0,0,0)[0] intercept   : AIC=-876.854, Time=0.11 sec\n",
      " ARIMA(5,1,0)(0,0,0)[0] intercept   : AIC=-881.174, Time=0.18 sec\n",
      " ARIMA(6,1,0)(0,0,0)[0] intercept   : AIC=-883.281, Time=0.22 sec\n",
      " ARIMA(7,1,0)(0,0,0)[0] intercept   : AIC=-881.285, Time=0.30 sec\n",
      " ARIMA(6,1,1)(0,0,0)[0] intercept   : AIC=-896.131, Time=0.39 sec\n",
      " ARIMA(5,1,1)(0,0,0)[0] intercept   : AIC=-906.632, Time=0.34 sec\n",
      " ARIMA(4,1,1)(0,0,0)[0] intercept   : AIC=-909.957, Time=0.31 sec\n",
      " ARIMA(3,1,1)(0,0,0)[0] intercept   : AIC=-908.600, Time=0.27 sec\n",
      " ARIMA(4,1,2)(0,0,0)[0] intercept   : AIC=-908.158, Time=0.34 sec\n",
      " ARIMA(3,1,2)(0,0,0)[0] intercept   : AIC=-907.865, Time=0.27 sec\n",
      " ARIMA(5,1,2)(0,0,0)[0] intercept   : AIC=-908.530, Time=0.40 sec\n",
      " ARIMA(4,1,1)(0,0,0)[0]             : AIC=inf, Time=0.23 sec\n",
      "\n",
      "Best model:  ARIMA(4,1,1)(0,0,0)[0] intercept\n",
      "Total fit time: 3.968 seconds\n"
     ]
    }
   ],
   "source": [
    "from pmdarima.arima import auto_arima\n",
    "\n",
    "model = auto_arima(train, start_p=1, start_q=1,\n",
    "                      test='adf',\n",
    "                      max_p=30, max_q=30,\n",
    "                      m=1,\n",
    "                      d=1,\n",
    "                      seasonal=True,\n",
    "                      start_P=0,\n",
    "                      D=None,\n",
    "                      trace=True,\n",
    "                      error_action='ignore',\n",
    "                      suppress_warnings=True,\n",
    "                      stepwise=True)"
   ]
  },
  {
   "cell_type": "code",
   "execution_count": 36,
   "metadata": {
    "pycharm": {
     "name": "#%%\n"
    }
   },
   "outputs": [
    {
     "data": {
      "text/html": [
       "<table class=\"simpletable\">\n",
       "<caption>SARIMAX Results</caption>\n",
       "<tr>\n",
       "  <th>Dep. Variable:</th>           <td>y</td>        <th>  No. Observations:  </th>    <td>259</td>  \n",
       "</tr>\n",
       "<tr>\n",
       "  <th>Model:</th>           <td>SARIMAX(4, 1, 1)</td> <th>  Log Likelihood     </th>  <td>461.978</td>\n",
       "</tr>\n",
       "<tr>\n",
       "  <th>Date:</th>            <td>Tue, 08 Mar 2022</td> <th>  AIC                </th> <td>-909.957</td>\n",
       "</tr>\n",
       "<tr>\n",
       "  <th>Time:</th>                <td>21:47:18</td>     <th>  BIC                </th> <td>-885.086</td>\n",
       "</tr>\n",
       "<tr>\n",
       "  <th>Sample:</th>                  <td>0</td>        <th>  HQIC               </th> <td>-899.956</td>\n",
       "</tr>\n",
       "<tr>\n",
       "  <th></th>                      <td> - 259</td>      <th>                     </th>     <td> </td>   \n",
       "</tr>\n",
       "<tr>\n",
       "  <th>Covariance Type:</th>        <td>opg</td>       <th>                     </th>     <td> </td>   \n",
       "</tr>\n",
       "</table>\n",
       "<table class=\"simpletable\">\n",
       "<tr>\n",
       "      <td></td>         <th>coef</th>     <th>std err</th>      <th>z</th>      <th>P>|z|</th>  <th>[0.025</th>    <th>0.975]</th>  \n",
       "</tr>\n",
       "<tr>\n",
       "  <th>intercept</th> <td>-2.548e-05</td> <td>    0.000</td> <td>   -0.200</td> <td> 0.841</td> <td>   -0.000</td> <td>    0.000</td>\n",
       "</tr>\n",
       "<tr>\n",
       "  <th>ar.L1</th>     <td>   -0.0651</td> <td>    0.079</td> <td>   -0.822</td> <td> 0.411</td> <td>   -0.221</td> <td>    0.090</td>\n",
       "</tr>\n",
       "<tr>\n",
       "  <th>ar.L2</th>     <td>    0.0075</td> <td>    0.082</td> <td>    0.091</td> <td> 0.927</td> <td>   -0.152</td> <td>    0.167</td>\n",
       "</tr>\n",
       "<tr>\n",
       "  <th>ar.L3</th>     <td>   -0.0186</td> <td>    0.084</td> <td>   -0.221</td> <td> 0.825</td> <td>   -0.183</td> <td>    0.146</td>\n",
       "</tr>\n",
       "<tr>\n",
       "  <th>ar.L4</th>     <td>    0.1088</td> <td>    0.058</td> <td>    1.874</td> <td> 0.061</td> <td>   -0.005</td> <td>    0.222</td>\n",
       "</tr>\n",
       "<tr>\n",
       "  <th>ma.L1</th>     <td>   -0.9578</td> <td>    0.033</td> <td>  -29.198</td> <td> 0.000</td> <td>   -1.022</td> <td>   -0.893</td>\n",
       "</tr>\n",
       "<tr>\n",
       "  <th>sigma2</th>    <td>    0.0017</td> <td>    0.000</td> <td>   12.585</td> <td> 0.000</td> <td>    0.001</td> <td>    0.002</td>\n",
       "</tr>\n",
       "</table>\n",
       "<table class=\"simpletable\">\n",
       "<tr>\n",
       "  <th>Ljung-Box (L1) (Q):</th>     <td>0.35</td> <th>  Jarque-Bera (JB):  </th> <td>10.25</td>\n",
       "</tr>\n",
       "<tr>\n",
       "  <th>Prob(Q):</th>                <td>0.55</td> <th>  Prob(JB):          </th> <td>0.01</td> \n",
       "</tr>\n",
       "<tr>\n",
       "  <th>Heteroskedasticity (H):</th> <td>0.68</td> <th>  Skew:              </th> <td>0.07</td> \n",
       "</tr>\n",
       "<tr>\n",
       "  <th>Prob(H) (two-sided):</th>    <td>0.08</td> <th>  Kurtosis:          </th> <td>3.97</td> \n",
       "</tr>\n",
       "</table><br/><br/>Warnings:<br/>[1] Covariance matrix calculated using the outer product of gradients (complex-step)."
      ],
      "text/plain": [
       "<class 'statsmodels.iolib.summary.Summary'>\n",
       "\"\"\"\n",
       "                               SARIMAX Results                                \n",
       "==============================================================================\n",
       "Dep. Variable:                      y   No. Observations:                  259\n",
       "Model:               SARIMAX(4, 1, 1)   Log Likelihood                 461.978\n",
       "Date:                Tue, 08 Mar 2022   AIC                           -909.957\n",
       "Time:                        21:47:18   BIC                           -885.086\n",
       "Sample:                             0   HQIC                          -899.956\n",
       "                                - 259                                         \n",
       "Covariance Type:                  opg                                         \n",
       "==============================================================================\n",
       "                 coef    std err          z      P>|z|      [0.025      0.975]\n",
       "------------------------------------------------------------------------------\n",
       "intercept  -2.548e-05      0.000     -0.200      0.841      -0.000       0.000\n",
       "ar.L1         -0.0651      0.079     -0.822      0.411      -0.221       0.090\n",
       "ar.L2          0.0075      0.082      0.091      0.927      -0.152       0.167\n",
       "ar.L3         -0.0186      0.084     -0.221      0.825      -0.183       0.146\n",
       "ar.L4          0.1088      0.058      1.874      0.061      -0.005       0.222\n",
       "ma.L1         -0.9578      0.033    -29.198      0.000      -1.022      -0.893\n",
       "sigma2         0.0017      0.000     12.585      0.000       0.001       0.002\n",
       "===================================================================================\n",
       "Ljung-Box (L1) (Q):                   0.35   Jarque-Bera (JB):                10.25\n",
       "Prob(Q):                              0.55   Prob(JB):                         0.01\n",
       "Heteroskedasticity (H):               0.68   Skew:                             0.07\n",
       "Prob(H) (two-sided):                  0.08   Kurtosis:                         3.97\n",
       "===================================================================================\n",
       "\n",
       "Warnings:\n",
       "[1] Covariance matrix calculated using the outer product of gradients (complex-step).\n",
       "\"\"\""
      ]
     },
     "execution_count": 36,
     "metadata": {},
     "output_type": "execute_result"
    }
   ],
   "source": [
    "model.summary()"
   ]
  },
  {
   "cell_type": "markdown",
   "metadata": {
    "pycharm": {
     "name": "#%% md\n"
    }
   },
   "source": [
    "The selection gives us an optimal model ARIMA(4,1,1), though only coefficient of MA1 is significant...\n",
    "Well, better than nothing. Let's try to predict daily return using this model and compare with the actual ts.\n",
    "\n",
    "Unsurprisingly, prediction is poor as below plot shows. I also calculate"
   ]
  },
  {
   "cell_type": "code",
   "execution_count": 44,
   "metadata": {
    "pycharm": {
     "name": "#%%\n"
    }
   },
   "outputs": [
    {
     "data": {
      "text/plain": [
       "<AxesSubplot:>"
      ]
     },
     "execution_count": 44,
     "metadata": {},
     "output_type": "execute_result"
    },
    {
     "data": {
      "image/png": "[encoded data removed]",
      "text/plain": [
       "<Figure size 432x288 with 1 Axes>"
      ]
     },
     "metadata": {
      "needs_background": "light"
     },
     "output_type": "display_data"
    }
   ],
   "source": [
    "test_size = 113\n",
    "prediction, confint = model.predict(n_periods=test_size, return_conf_int=True)\n",
    "prediction = pd.Series(prediction, name = \"Prediction\", index = dates[259:])\n",
    "compare = pd.concat([test, prediction], axis=1)\n",
    "compare.plot()"
   ]
  },
  {
   "cell_type": "markdown",
   "metadata": {
    "pycharm": {
     "name": "#%% md\n"
    }
   },
   "source": [
    "Numerize the fitness of model using MSE, mean sqaured error, the result is 0.0013, not bad actually.\n",
    "However, the model ARIMA(4,1,1) does not convince me unless more test justify it."
   ]
  },
  {
   "cell_type": "code",
   "execution_count": 45,
   "metadata": {
    "pycharm": {
     "name": "#%%\n"
    }
   },
   "outputs": [
    {
     "data": {
      "text/plain": [
       "0.0012959777032564835"
      ]
     },
     "execution_count": 45,
     "metadata": {},
     "output_type": "execute_result"
    }
   ],
   "source": [
    "from sklearn.metrics import mean_squared_error as MSE\n",
    "MSE(test, prediction)"
   ]
  },
  {
   "cell_type": "markdown",
   "metadata": {
    "pycharm": {
     "name": "#%% md\n"
    }
   },
   "source": [
    "There are some attempts which might be irrelavant* below."
   ]
  },
  {
   "cell_type": "code",
   "execution_count": null,
   "metadata": {
    "pycharm": {
     "name": "#%%\n"
    }
   },
   "outputs": [],
   "source": [
    "from statsmodels.tsa.api import acf, graphics, pacf\n",
    "from statsmodels.tsa.ar_model import AutoReg, ar_select_order\n",
    "mod_autor = AutoReg(train, 26, old_names=False)\n",
    "res = mod_autor.fit()\n",
    "print(res.summary())"
   ]
  },
  {
   "cell_type": "code",
   "execution_count": null,
   "metadata": {
    "pycharm": {
     "name": "#%%\n"
    }
   },
   "outputs": [],
   "source": [
    "sel = ar_select_order(train, 24, \"bic\",\n",
    "                      old_names=False)\n",
    "sel.ar_lags\n",
    "res = sel.model.fit()\n",
    "print(res.summary())"
   ]
  },
  {
   "cell_type": "code",
   "execution_count": null,
   "metadata": {
    "pycharm": {
     "name": "#%%\n"
    }
   },
   "outputs": [],
   "source": [
    "# ARIMA(0,0,1)\n",
    "mod = sm.tsa.arima.ARIMA(train, order=(0, 0, 1))\n",
    "res = mod.fit()\n",
    "print(res.summary())"
   ]
  },
  {
   "cell_type": "code",
   "execution_count": null,
   "metadata": {
    "pycharm": {
     "name": "#%%\n"
    }
   },
   "outputs": [],
   "source": [
    "# ARIMA(1,0,1)\n",
    "mod = sm.tsa.arima.ARIMA(train, order=(1, 0, 1))\n",
    "res = mod.fit()\n",
    "print(res.summary())\n"
   ]
  },
  {
   "cell_type": "code",
   "execution_count": null,
   "metadata": {
    "pycharm": {
     "name": "#%%\n"
    }
   },
   "outputs": [],
   "source": [
    "from scipy import stats\n",
    "def transformation(ts):\n",
    "    data_log = pd.Series(np.log(ts), name = \"Log Trans\")\n",
    "    dates = ts.index\n",
    "    data_bc = stats.boxcox(ts)\n",
    "    data_bc = pd.Series(data_bc[0],name=\"Box-Cox Trans\")\n",
    "    data_bc = data_bc.set_axis(dates, axis=0)\n",
    "    data_trans = pd.concat([data_log, data_bc],axis=1)\n",
    "    return data_trans"
   ]
  },
  {
   "cell_type": "code",
   "execution_count": null,
   "metadata": {
    "pycharm": {
     "name": "#%%\n"
    }
   },
   "outputs": [],
   "source": [
    "trans_close = transformation(close)"
   ]
  },
  {
   "cell_type": "code",
   "execution_count": null,
   "metadata": {
    "pycharm": {
     "name": "#%%\n"
    }
   },
   "outputs": [],
   "source": [
    "adf(trans_close)"
   ]
  },
  {
   "cell_type": "markdown",
   "metadata": {
    "pycharm": {
     "name": "#%% md\n"
    }
   },
   "source": [
    "Ref:\n",
    "- Auto ARIMA selection package: https://alkaline-ml.com/pmdarima/modules/generated/pmdarima.arima.ARIMA.html\n",
    "- Econometrics basics\n"
   ]
  }
 ],
 "metadata": {
  "kernelspec": {
   "display_name": "Python 3",
   "language": "python",
   "name": "python3"
  },
  "language_info": {
   "codemirror_mode": {
    "name": "ipython",
    "version": 3
   },
   "file_extension": ".py",
   "mimetype": "text/x-python",
   "name": "python",
   "nbconvert_exporter": "python",
   "pygments_lexer": "ipython3",
   "version": "3.8.5"
  },
  "latex_envs": {
   "LaTeX_envs_menu_present": true,
   "autoclose": false,
   "autocomplete": true,
   "bibliofile": "biblio.bib",
   "cite_by": "apalike",
   "current_citInitial": 1,
   "eqLabelWithNumbers": true,
   "eqNumInitial": 1,
   "hotkeys": {
    "equation": "Ctrl-E",
    "itemize": "Ctrl-I"
   },
   "labels_anchors": false,
   "latex_user_defs": false,
   "report_style_numbering": false,
   "user_envs_cfg": false
  },
  "nbTranslate": {
   "displayLangs": [
    "*"
   ],
   "hotkey": "alt-t",
   "langInMainMenu": true,
   "sourceLang": "en",
   "targetLang": "fr",
   "useGoogleTranslate": true
  }
 },
 "nbformat": 4,
 "nbformat_minor": 1
}
